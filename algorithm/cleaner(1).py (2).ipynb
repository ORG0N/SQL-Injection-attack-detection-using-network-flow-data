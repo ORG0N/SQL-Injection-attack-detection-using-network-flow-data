{
 "cells": [
  {
   "cell_type": "code",
   "execution_count": 2,
   "id": "0ae8ac69-78b6-40c6-baf0-e213433f955c",
   "metadata": {},
   "outputs": [],
   "source": [
    "import numpy as np\n",
    "import pandas as pd\n",
    "import os"
   ]
  },
  {
   "cell_type": "code",
   "execution_count": 3,
   "id": "734501bf-87bc-42fc-9092-09443fe45e56",
   "metadata": {},
   "outputs": [
    {
     "name": "stdout",
     "output_type": "stream",
     "text": [
      "Removing features...\n",
      "Searching Negatives....\n",
      "Searching for columns with no variance...\n",
      "Searching Null values....\n",
      "Search Infinite.....\n",
      "       dpkts  doctets  input  output  srcport  dstport  prot  tos  tcp_flags  \\\n",
      "0          1      228     10       8       53    36602    17    0          0   \n",
      "1          1       70      8      10    51085       53    17    0          0   \n",
      "2          1       70      8      10    36602       53    17    0          0   \n",
      "3          1      228     10       8       53    51085    17    0          0   \n",
      "4          1       83      8      10    53358       53    17    0          0   \n",
      "...      ...      ...    ...     ...      ...      ...   ...  ...        ...   \n",
      "57224     11      812  65535    4851    56298       22     6    8         25   \n",
      "57225     36     6370   4851   65535       22    56298     6    0         26   \n",
      "57226     27     3337  65535    4851    56298       22     6    0         26   \n",
      "57227     18     3185   4851    4851       22    57932     6    0         26   \n",
      "57228      5      456   4851    4851       22    57932     6    8         25   \n",
      "\n",
      "       Label  \n",
      "0          0  \n",
      "1          0  \n",
      "2          0  \n",
      "3          0  \n",
      "4          0  \n",
      "...      ...  \n",
      "57224      1  \n",
      "57225      1  \n",
      "57226      1  \n",
      "57227      1  \n",
      "57228      1  \n",
      "\n",
      "[57229 rows x 10 columns]\n"
     ]
    }
   ],
   "source": [
    "#from sklearn.decomposition import PCA\n",
    "\n",
    "class Cleaner:\n",
    "    def search_unimportant(self, df):\n",
    "        print(\"Searching for columns with no variance...\")\n",
    "        row_num=len(df)\n",
    "        for col in df:\n",
    "            aux=df[col][0]*row_num\n",
    "            col_sum=sum(df[col])\n",
    "            if aux!=0:\n",
    "                if (col_sum)/(aux)==1:\n",
    "                        print(\"All values in column\",col,\"are the same:\",float(df[col][0]))\n",
    "                if col_sum==0:\n",
    "                    print(\"Columns with zero:\\n\",col)\n",
    "            if aux==0:\n",
    "                if col_sum==0:\n",
    "                    df.drop(col,axis=1,inplace=True)\n",
    "                    print(\"Columns with zero:\\n\",col)\n",
    "                \n",
    "        return df\n",
    "    \n",
    "    def search_null(self, df):\n",
    "        print(\"Searching Null values....\")\n",
    "        row_num = len(df)\n",
    "        for col in df:\n",
    "            null_list = df[col].isnull()\n",
    "            null_num = null_list.sum()\n",
    "            if not null_num == 0:\n",
    "                print(\"Column %s have %i Null values\" % (col, nan_null))\n",
    "        return df.fillna(0)\n",
    "    \n",
    "    def search_infinite(self, df, list=[\"Label\"]):\n",
    "\t\t#row_num = len(df)\n",
    "        print(\"Search Infinite.....\")\n",
    "        for col in df:\n",
    "            flag=False\n",
    "            for i in list:\n",
    "                if(col == i):\n",
    "                    flag = True\n",
    "            if not (flag):\n",
    "                inf_list = np.isinf(df[col].astype('float64'))\n",
    "                inf_num = inf_list.sum()\n",
    "                if not inf_num == 0:\n",
    "                    aux = df[col].astype('float64').replace([np.inf, -np.inf], np.nan)\n",
    "                    aux = aux.dropna()\n",
    "                    #Remove infinite values and find mean of that column\n",
    "                    mean = aux.mean()\n",
    "                              \n",
    "                    #Substitute infinite values with mean in orig dataframe\n",
    "                    df[col] = df[col].astype('float64').replace([np.inf, -np.inf], mean,inplace=True)\n",
    "                    print(\"Column %s have %i infinite values\" % (col, inf_num))\n",
    "        return df\n",
    "    \n",
    "    def search_negatives(self, df):\n",
    "        print(\"Searching Negatives....\")\n",
    "        row_num = len(df)\n",
    "        for col in df:\n",
    "            neg_list = df[col] < 0\n",
    "            neg_num = neg_list.sum()\n",
    "            if not neg_num == 0:\n",
    "                print(\"Column %s have %i negative values\" % (col, neg_num))\n",
    "        return df\n",
    "    \n",
    "    def removeFeatures(self, df,list=['nexthop','engine_id','engine_type','src_mask','dst_mask','src_as','dst_as','#:unix_secs','unix_nsecs','sysuptime','first','last', 'exaddr','srcaddr','dstaddr']):\n",
    "        print(\"Removing features...\")\n",
    "        df = df.drop(columns=list,inplace=True)\n",
    "        return df\n",
    "    \n",
    "\n",
    "\n",
    "c=Cleaner()\n",
    "data=pd.read_csv(\"E:\\\\jupyter\\\\cleaner\\\\testSql.csv\")\n",
    "\n",
    "c.removeFeatures(data)\n",
    "c.search_negatives(data)\n",
    "c.search_unimportant(data)\n",
    "c.search_null(data)\n",
    "c.search_infinite(data)\n",
    "\n",
    "print(data)\n",
    "\n",
    "data.to_csv(\"E:\\\\jupyter\\\\cleaner\\\\cleaner.csv\",index=False)"
   ]
  },
  {
   "cell_type": "code",
   "execution_count": 4,
   "id": "6a974552-2b3d-4e49-ab72-84089d49ec82",
   "metadata": {},
   "outputs": [
    {
     "name": "stdout",
     "output_type": "stream",
     "text": [
      "[192, 168, 72, 2]\n"
     ]
    }
   ],
   "source": [
    "ip=\"192.168.72.2\"\n",
    "print(list(map(int, ip.split('.'))))"
   ]
  },
  {
   "cell_type": "code",
   "execution_count": null,
   "id": "b61cb9f2-de33-4da4-9eef-a4d84b43b533",
   "metadata": {},
   "outputs": [],
   "source": []
  }
 ],
 "metadata": {
  "kernelspec": {
   "display_name": "Python 3 (ipykernel)",
   "language": "python",
   "name": "python3"
  },
  "language_info": {
   "codemirror_mode": {
    "name": "ipython",
    "version": 3
   },
   "file_extension": ".py",
   "mimetype": "text/x-python",
   "name": "python",
   "nbconvert_exporter": "python",
   "pygments_lexer": "ipython3",
   "version": "3.8.6"
  }
 },
 "nbformat": 4,
 "nbformat_minor": 5
}
